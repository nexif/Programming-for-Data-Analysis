{
 "cells": [
  {
   "cell_type": "markdown",
   "metadata": {
    "collapsed": true,
    "pycharm": {
     "name": "#%% md\n"
    }
   },
   "source": [
    "# Zadanie 1\n",
    "Stwórz klasy dogi cat, które dziedziczyć będą po klasie animal.\n",
    "Klasa animalma następujące atrybuty:\n",
    "\n",
    "    - isAlive = True\n",
    "    - gender = Do wyboru Male/Female (domyślnie Female)\n",
    "    - genus= nazwa gatunkowa (Canisdla psa, Felis -dla kota)\n",
    "  \n",
    "\n",
    "Klasa animal posiada też metodę breed o parametrze partner. Metoda ta ma zwracać instancję klasy animal, typu tego samego, co instancja, w której wywołujemy metodę breed pod warunkiem, że instancja dla której wywołujemy metodę:\n",
    "\n",
    "    a) Jest samicą\n",
    "    b) Partner jest samcem\n",
    "    c) Instancja oraz partner należą do jednego gatunku\n",
    "\n",
    "Klasa dog posiada metodę woof, zwracającą string woof woof. Klasa cat posiada metodę purr, zwracającą string purr.\n",
    "\n",
    "    b) Stwórz instancję klas dog i cat, za pomocą metody breed. Do metody breedinstrukcję przechwytywania wyjątku, która wyświetli string attribute not found, jeżeli podany w parametrze partner nie posiada niezbędnych atrybutów."
   ]
  },
  {
   "cell_type": "code",
   "execution_count": 1,
   "metadata": {
    "pycharm": {
     "name": "#%%\n"
    }
   },
   "outputs": [
    {
     "name": "stdout",
     "output_type": "stream",
     "text": [
      "<class '__main__.Dog'>\n",
      "<class '__main__.Cat'>\n",
      "Exception raised: Attribute not found : Felis + Canis != Felis\n"
     ]
    }
   ],
   "source": [
    "class Animal:\n",
    "    def __init__(self, gender='Female', genus='Animal'):\n",
    "        self.isAlive = True\n",
    "        self.genus = genus\n",
    "        self.gender = gender\n",
    "\n",
    "    def breed(self, partner):\n",
    "        try:\n",
    "            if self.gender == 'Female' and partner.gender == 'Male' and self.genus == partner.genus:\n",
    "                return self.__class__(self.gender, self.genus)\n",
    "            else:\n",
    "                raise ValueError('Attribute not found')\n",
    "        except ValueError as ve:\n",
    "            print('Exception raised:', ve, f': {self.genus} + {partner.genus} != {self.genus}')\n",
    "\n",
    "\n",
    "class Dog(Animal):\n",
    "    def __init__(self, gender, genus='Canis'):\n",
    "        super().__init__(gender, genus)\n",
    "        self.gender = gender\n",
    "\n",
    "    @staticmethod\n",
    "    def woof():\n",
    "        return 'woof woof'\n",
    "\n",
    "\n",
    "class Cat(Animal):\n",
    "    def __init__(self, gender, genus='Felis'):\n",
    "        super().__init__(gender, genus)\n",
    "        self.gender = gender\n",
    "\n",
    "    @staticmethod\n",
    "    def purr():\n",
    "        return 'purr'\n",
    "\n",
    "\n",
    "dog_female = Dog('Female')\n",
    "dog_male = Dog('Male')\n",
    "cat_female = Cat('Female')\n",
    "cat_male = Cat('Male')\n",
    "\n",
    "new_dog = dog_female.breed(dog_male)\n",
    "print(type(new_dog))\n",
    "new_cat = cat_female.breed(cat_male)\n",
    "print(type(new_cat))\n",
    "no_animal = cat_male.breed(dog_female)"
   ]
  },
  {
   "cell_type": "markdown",
   "metadata": {
    "pycharm": {
     "name": "#%% md\n"
    }
   },
   "source": [
    "# Zadanie 2\n",
    "Stwórz klasę worker. Klasa ma atrybut salary, zwracający wynagrodzenie. Stwórz instancje klasy, o danych wartościach. Napisz instrukcje, które:\n",
    "\n",
    "    - policzą średnie zarobki w firmie\n",
    "    - porównają średni zarobek wśród osób młodszych iż 30 lat i starszych"
   ]
  },
  {
   "cell_type": "code",
   "execution_count": 2,
   "metadata": {
    "pycharm": {
     "name": "#%%\n"
    }
   },
   "outputs": [
    {
     "name": "stdout",
     "output_type": "stream",
     "text": [
      "Średnie zarobki w firmie: 1800.0\n",
      "Średnie zarobki osób młodszych niż 30 lat: 1600.0\n",
      "Średnie zarobki osób starszych niż 30 lat: 1833.3333333333333\n"
     ]
    }
   ],
   "source": [
    "from datetime import date\n",
    "\n",
    "\n",
    "class Worker:\n",
    "    def __init__(self, number, name, birth_date, salary):\n",
    "        self.number = number\n",
    "        self.name = name\n",
    "        self.birth_date = birth_date\n",
    "        self.age = date.today().year - self.birth_date\n",
    "        self.salary = salary\n",
    "\n",
    "\n",
    "class Company:\n",
    "    def __init__(self):\n",
    "        self.workers = []\n",
    "\n",
    "    def add_worker(self, worker):\n",
    "        self.workers.append(worker)\n",
    "\n",
    "    def average_salary(self):\n",
    "        salary_sum = 0\n",
    "        for worker in self.workers:\n",
    "            salary_sum += worker.salary\n",
    "        avg = salary_sum / len(self.workers)\n",
    "        return avg\n",
    "\n",
    "    def average_salary_of_workers_under_30(self):\n",
    "        salary_sum = 0\n",
    "        no_workers = 0\n",
    "        for worker in self.workers:\n",
    "            if worker.age <= 30:\n",
    "                salary_sum += worker.salary\n",
    "                no_workers += 1\n",
    "        if no_workers == 0:\n",
    "            return 0\n",
    "        avg = salary_sum / no_workers\n",
    "        return avg\n",
    "\n",
    "    def average_salary_of_workers_over_30(self):\n",
    "        salary_sum = 0\n",
    "        no_workers = 0\n",
    "        for worker in self.workers:\n",
    "            if worker.age > 30:\n",
    "                salary_sum += worker.salary\n",
    "                no_workers += 1\n",
    "        if no_workers == 0:\n",
    "            return 0\n",
    "        avg = salary_sum / no_workers\n",
    "        return avg\n",
    "\n",
    "\n",
    "company = Company()\n",
    "\n",
    "worker1 = Worker(1, 'Adam', 1983, 1500)\n",
    "worker2 = Worker(2, 'Anna', 1981, 1700)\n",
    "worker3 = Worker(3, 'Błażej', 1990, 1800)\n",
    "worker4 = Worker(4, 'Beata', 1992, 1600)\n",
    "worker5 = Worker(5, 'Czesław', 1980, 2000)\n",
    "worker6 = Worker(6, 'Cecylia', 1983, 2100)\n",
    "worker7 = Worker(7, 'Daniel', 1976, 1900)\n",
    "workers = [worker1, worker2, worker3, worker4, worker5, worker6, worker7]\n",
    "for w in workers:\n",
    "    company.add_worker(w)\n",
    "\n",
    "print('Średnie zarobki w firmie:', company.average_salary())\n",
    "print('Średnie zarobki osób młodszych niż 30 lat:', company.average_salary_of_workers_under_30())\n",
    "print('Średnie zarobki osób starszych niż 30 lat:', company.average_salary_of_workers_over_30())"
   ]
  },
  {
   "cell_type": "code",
   "execution_count": 3,
   "metadata": {},
   "outputs": [
    {
     "name": "stdout",
     "output_type": "stream",
     "text": [
      "Średnie zarobki:  1800.0\n",
      "Zarobki osób młodszych niż 30:  1600.0\n",
      "Zarobki osób starszych niż 30:  1833.3333333333333\n"
     ]
    }
   ],
   "source": [
    "# Instancje można utworzyć w pętli\n",
    "number = [1,2,3,4,5,6,7]\n",
    "names = ['Adam', 'Anna', 'Błażej', 'Beata', 'Czesław', 'Cecylia', 'Daniel']\n",
    "birth_dates = [1983, 1981, 1990, 1992, 1980, 1983, 1976]\n",
    "salaries = [1500, 1700, 1800, 1600, 2000, 2100, 1900]\n",
    "\n",
    "instances = []\n",
    "for instance in range(0,7):\n",
    "    instances.append(Worker(number[instance], names[instance], birth_dates[instance], salaries[instance]))\n",
    "\n",
    "salaries = [i.salary for i in instances]\n",
    "print('Średnie zarobki: ', sum(salaries)/len(salaries))\n",
    "\n",
    "below_30 = [i.salary for i in instances if i.birth_date>1991]\n",
    "print('Zarobki osób młodszych niż 30: ', sum(below_30)/len(below_30))\n",
    "\n",
    "above_30 = [i.salary for i in instances if i.birth_date<=1991]\n",
    "print('Zarobki osób starszych niż 30: ', sum(above_30)/len(above_30))"
   ]
  }
 ],
 "metadata": {
  "kernelspec": {
   "display_name": "Python 3 (ipykernel)",
   "language": "python",
   "name": "python3"
  },
  "language_info": {
   "codemirror_mode": {
    "name": "ipython",
    "version": 3
   },
   "file_extension": ".py",
   "mimetype": "text/x-python",
   "name": "python",
   "nbconvert_exporter": "python",
   "pygments_lexer": "ipython3",
   "version": "3.9.7"
  }
 },
 "nbformat": 4,
 "nbformat_minor": 1
}
