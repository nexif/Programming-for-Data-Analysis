{
 "cells": [
  {
   "cell_type": "markdown",
   "metadata": {},
   "source": [
    "# Zadanie 1\n",
    "Wgraj plik DANE_PAD_02.csv jako ramkę danych.\n",
    "Oblicz liczebność każdej z wartości w zmiennej COUNTRY. "
   ]
  },
  {
   "cell_type": "code",
   "execution_count": 1,
   "metadata": {},
   "outputs": [
    {
     "data": {
      "text/html": [
       "<div>\n",
       "<style scoped>\n",
       "    .dataframe tbody tr th:only-of-type {\n",
       "        vertical-align: middle;\n",
       "    }\n",
       "\n",
       "    .dataframe tbody tr th {\n",
       "        vertical-align: top;\n",
       "    }\n",
       "\n",
       "    .dataframe thead th {\n",
       "        text-align: right;\n",
       "    }\n",
       "</style>\n",
       "<table border=\"1\" class=\"dataframe\">\n",
       "  <thead>\n",
       "    <tr style=\"text-align: right;\">\n",
       "      <th></th>\n",
       "      <th>ID</th>\n",
       "      <th>Country</th>\n",
       "      <th>owns_car</th>\n",
       "      <th>owns_TV</th>\n",
       "      <th>owns_house</th>\n",
       "      <th>owns_Phone</th>\n",
       "      <th>gender</th>\n",
       "      <th>Age</th>\n",
       "    </tr>\n",
       "  </thead>\n",
       "  <tbody>\n",
       "    <tr>\n",
       "      <th>0</th>\n",
       "      <td>1</td>\n",
       "      <td>A</td>\n",
       "      <td>0.0</td>\n",
       "      <td>0.0</td>\n",
       "      <td>0.0</td>\n",
       "      <td>1</td>\n",
       "      <td>M</td>\n",
       "      <td>61</td>\n",
       "    </tr>\n",
       "    <tr>\n",
       "      <th>1</th>\n",
       "      <td>2</td>\n",
       "      <td>B</td>\n",
       "      <td>0.0</td>\n",
       "      <td>0.0</td>\n",
       "      <td>0.0</td>\n",
       "      <td>1</td>\n",
       "      <td>M</td>\n",
       "      <td>44</td>\n",
       "    </tr>\n",
       "    <tr>\n",
       "      <th>2</th>\n",
       "      <td>3</td>\n",
       "      <td>A</td>\n",
       "      <td>0.0</td>\n",
       "      <td>0.0</td>\n",
       "      <td>0.0</td>\n",
       "      <td>1</td>\n",
       "      <td>M</td>\n",
       "      <td>56</td>\n",
       "    </tr>\n",
       "    <tr>\n",
       "      <th>3</th>\n",
       "      <td>4</td>\n",
       "      <td>A</td>\n",
       "      <td>0.0</td>\n",
       "      <td>0.0</td>\n",
       "      <td>0.0</td>\n",
       "      <td>1</td>\n",
       "      <td>M</td>\n",
       "      <td>53</td>\n",
       "    </tr>\n",
       "    <tr>\n",
       "      <th>4</th>\n",
       "      <td>5</td>\n",
       "      <td>C</td>\n",
       "      <td>1.0</td>\n",
       "      <td>1.0</td>\n",
       "      <td>0.0</td>\n",
       "      <td>1</td>\n",
       "      <td>K</td>\n",
       "      <td>60</td>\n",
       "    </tr>\n",
       "  </tbody>\n",
       "</table>\n",
       "</div>"
      ],
      "text/plain": [
       "   ID Country  owns_car  owns_TV  owns_house  owns_Phone gender  Age\n",
       "0   1       A       0.0      0.0         0.0           1      M   61\n",
       "1   2       B       0.0      0.0         0.0           1      M   44\n",
       "2   3       A       0.0      0.0         0.0           1      M   56\n",
       "3   4       A       0.0      0.0         0.0           1      M   53\n",
       "4   5       C       1.0      1.0         0.0           1      K   60"
      ]
     },
     "execution_count": 1,
     "metadata": {},
     "output_type": "execute_result"
    }
   ],
   "source": [
    "import pandas as pd\n",
    "\n",
    "df = pd.read_csv('datasets/PAD_02_PD.csv', sep=';')\n",
    "df[['owns_car', 'owns_TV', 'owns_house', 'owns_Phone']] = df[['owns_car', 'owns_TV', 'owns_house', 'owns_Phone']].fillna(0)\n",
    "df.head()"
   ]
  },
  {
   "cell_type": "code",
   "execution_count": 2,
   "metadata": {},
   "outputs": [
    {
     "data": {
      "text/plain": [
       "A      328\n",
       "B      201\n",
       "C      186\n",
       "D       78\n",
       "NaN      7\n",
       "Name: Country, dtype: int64"
      ]
     },
     "execution_count": 2,
     "metadata": {},
     "output_type": "execute_result"
    }
   ],
   "source": [
    "df['Country'].value_counts(dropna=False)"
   ]
  },
  {
   "cell_type": "markdown",
   "metadata": {},
   "source": [
    "# Zadanie 2\n",
    "Stwórz zmienną, która będzie informowała o liczbie posiadanych dóbr."
   ]
  },
  {
   "cell_type": "code",
   "execution_count": 3,
   "metadata": {},
   "outputs": [
    {
     "data": {
      "text/plain": [
       "owns_car      187\n",
       "owns_TV       356\n",
       "owns_house    159\n",
       "owns_Phone    755\n",
       "dtype: int64"
      ]
     },
     "execution_count": 3,
     "metadata": {},
     "output_type": "execute_result"
    }
   ],
   "source": [
    "assets = df[['owns_car', 'owns_TV', 'owns_house', 'owns_Phone']].astype(bool).sum(axis=0)\n",
    "\n",
    "# lub alternatywnie:\n",
    "import numpy as np\n",
    "assets_count = np.count_nonzero(df[['owns_car', 'owns_TV', 'owns_house', 'owns_Phone']], axis=0)\n",
    "\n",
    "assets"
   ]
  },
  {
   "cell_type": "markdown",
   "metadata": {},
   "source": [
    "# Zadanie 3\n",
    "Porównaj średnią posiadanych dóbr między kobietami i mężczyznami."
   ]
  },
  {
   "cell_type": "code",
   "execution_count": 4,
   "metadata": {},
   "outputs": [],
   "source": [
    "men_df = df[df['gender'] == 'M'][['owns_car', 'owns_TV', 'owns_house', 'owns_Phone']]\n",
    "women_df = df[df['gender'] == 'K'][['owns_car', 'owns_TV', 'owns_house', 'owns_Phone']]\n",
    "men = men_df.mean()\n",
    "women = women_df.mean()"
   ]
  },
  {
   "cell_type": "code",
   "execution_count": 5,
   "metadata": {},
   "outputs": [
    {
     "data": {
      "text/html": [
       "<div>\n",
       "<style scoped>\n",
       "    .dataframe tbody tr th:only-of-type {\n",
       "        vertical-align: middle;\n",
       "    }\n",
       "\n",
       "    .dataframe tbody tr th {\n",
       "        vertical-align: top;\n",
       "    }\n",
       "\n",
       "    .dataframe thead th {\n",
       "        text-align: right;\n",
       "    }\n",
       "</style>\n",
       "<table border=\"1\" class=\"dataframe\">\n",
       "  <thead>\n",
       "    <tr style=\"text-align: right;\">\n",
       "      <th></th>\n",
       "      <th>Mężczyźni</th>\n",
       "      <th>Kobiety</th>\n",
       "    </tr>\n",
       "  </thead>\n",
       "  <tbody>\n",
       "    <tr>\n",
       "      <th>owns_car</th>\n",
       "      <td>0.000000</td>\n",
       "      <td>0.476804</td>\n",
       "    </tr>\n",
       "    <tr>\n",
       "      <th>owns_TV</th>\n",
       "      <td>0.000000</td>\n",
       "      <td>0.909794</td>\n",
       "    </tr>\n",
       "    <tr>\n",
       "      <th>owns_house</th>\n",
       "      <td>0.000000</td>\n",
       "      <td>0.407216</td>\n",
       "    </tr>\n",
       "    <tr>\n",
       "      <th>owns_Phone</th>\n",
       "      <td>0.889435</td>\n",
       "      <td>1.000000</td>\n",
       "    </tr>\n",
       "  </tbody>\n",
       "</table>\n",
       "</div>"
      ],
      "text/plain": [
       "            Mężczyźni   Kobiety\n",
       "owns_car     0.000000  0.476804\n",
       "owns_TV      0.000000  0.909794\n",
       "owns_house   0.000000  0.407216\n",
       "owns_Phone   0.889435  1.000000"
      ]
     },
     "execution_count": 5,
     "metadata": {},
     "output_type": "execute_result"
    }
   ],
   "source": [
    "comparison_df = pd.DataFrame({'Mężczyźni': men,'Kobiety':women})\n",
    "comparison_df"
   ]
  },
  {
   "cell_type": "markdown",
   "metadata": {},
   "source": [
    "# Zadanie 4\n",
    "Stwórz ramkę danych, która zawierać będzie w pierwszej kolumnie wartość zmiennej COUNTRY, w drugiej kolumnie, średnią posiadanych dóbr w danym kraju, w trzeciej kolumnie minimum wieku, a czwartej kolumnie odsetek kobiet."
   ]
  },
  {
   "cell_type": "code",
   "execution_count": 6,
   "metadata": {},
   "outputs": [
    {
     "data": {
      "text/html": [
       "<div>\n",
       "<style scoped>\n",
       "    .dataframe tbody tr th:only-of-type {\n",
       "        vertical-align: middle;\n",
       "    }\n",
       "\n",
       "    .dataframe tbody tr th {\n",
       "        vertical-align: top;\n",
       "    }\n",
       "\n",
       "    .dataframe thead th {\n",
       "        text-align: right;\n",
       "    }\n",
       "</style>\n",
       "<table border=\"1\" class=\"dataframe\">\n",
       "  <thead>\n",
       "    <tr style=\"text-align: right;\">\n",
       "      <th></th>\n",
       "      <th>Country</th>\n",
       "      <th>Goods Avg</th>\n",
       "      <th>Min Age</th>\n",
       "      <th>Women Avg</th>\n",
       "    </tr>\n",
       "  </thead>\n",
       "  <tbody>\n",
       "    <tr>\n",
       "      <th>0</th>\n",
       "      <td>A</td>\n",
       "      <td>0.862805</td>\n",
       "      <td>18</td>\n",
       "      <td>0.0</td>\n",
       "    </tr>\n",
       "    <tr>\n",
       "      <th>1</th>\n",
       "      <td>B</td>\n",
       "      <td>1.452736</td>\n",
       "      <td>18</td>\n",
       "      <td>62.5</td>\n",
       "    </tr>\n",
       "    <tr>\n",
       "      <th>2</th>\n",
       "      <td>C</td>\n",
       "      <td>3.021505</td>\n",
       "      <td>18</td>\n",
       "      <td>100.0</td>\n",
       "    </tr>\n",
       "    <tr>\n",
       "      <th>3</th>\n",
       "      <td>D</td>\n",
       "      <td>4.000000</td>\n",
       "      <td>18</td>\n",
       "      <td>100.0</td>\n",
       "    </tr>\n",
       "  </tbody>\n",
       "</table>\n",
       "</div>"
      ],
      "text/plain": [
       "  Country  Goods Avg  Min Age  Women Avg\n",
       "0       A   0.862805       18        0.0\n",
       "1       B   1.452736       18       62.5\n",
       "2       C   3.021505       18      100.0\n",
       "3       D   4.000000       18      100.0"
      ]
     },
     "execution_count": 6,
     "metadata": {},
     "output_type": "execute_result"
    }
   ],
   "source": [
    "df['Goods'] = df['owns_car'] + df['owns_TV'] + df['owns_house'] + df['owns_Phone']\n",
    "\n",
    "my_df = df[['Country']].groupby('Country').count()\n",
    "my_df['Goods Avg'] = df[['Country', 'Goods']].groupby('Country').mean()\n",
    "my_df['Min Age'] = df[['Country', 'Age']].groupby('Country').min()\n",
    "\n",
    "def women_average(x):\n",
    "    women_per_country = len(df[(df['gender'] == 'K') & (df['Country'] == x)])\n",
    "    both_genders_per_country = len(df[((df['gender'] == 'K') | (df['gender'] == 'M')) & (df['Country'] == x)])\n",
    "    return 100*women_per_country/both_genders_per_country\n",
    "\n",
    "my_df = my_df.reset_index()\n",
    "my_df['Women Avg'] = my_df['Country'].apply(women_average)\n",
    "my_df\n"
   ]
  }
 ],
 "metadata": {
  "interpreter": {
   "hash": "d8f5a8577b8cf413169496226e4485bf91d05ebdcdf9e1588db361085a732ed9"
  },
  "kernelspec": {
   "display_name": "Python 3.9.7 64-bit ('ml_env': conda)",
   "name": "python3"
  },
  "language_info": {
   "codemirror_mode": {
    "name": "ipython",
    "version": 3
   },
   "file_extension": ".py",
   "mimetype": "text/x-python",
   "name": "python",
   "nbconvert_exporter": "python",
   "pygments_lexer": "ipython3",
   "version": "3.9.10"
  },
  "orig_nbformat": 4
 },
 "nbformat": 4,
 "nbformat_minor": 2
}
